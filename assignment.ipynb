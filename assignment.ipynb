{
 "cells": [
  {
   "cell_type": "markdown",
   "metadata": {},
   "source": [
    "# 1. What exactly is []?"
   ]
  },
  {
   "cell_type": "markdown",
   "metadata": {},
   "source": [
    "# Solution 1"
   ]
  },
  {
   "cell_type": "markdown",
   "metadata": {},
   "source": [
    "### In python [] denotes a  empty list  . a list is denotes by square brackets and the item   are  enclose in  Inverted comma and seperatd by commas and [] this simply means the list is empty \n",
    "\n",
    "\n"
   ]
  },
  {
   "cell_type": "code",
   "execution_count": 1,
   "metadata": {},
   "outputs": [
    {
     "name": "stdout",
     "output_type": "stream",
     "text": [
      "[]\n",
      "0\n"
     ]
    }
   ],
   "source": [
    "my_lst = []\n",
    "\n",
    "print(my_lst) # it print the empty list\n",
    "\n",
    "print(len(my_lst)) # it print how many elemets inside a list"
   ]
  },
  {
   "cell_type": "markdown",
   "metadata": {},
   "source": [
    "## --------------------------------------------------------------------------------------------"
   ]
  },
  {
   "cell_type": "markdown",
   "metadata": {},
   "source": [
    "# 2. In a list of values stored in a variable called spam, how would you assign the value &#39;hello&#39; as the third value? (Assume [2, 4, 6, 8, 10] are in spam.)"
   ]
  },
  {
   "cell_type": "markdown",
   "metadata": {},
   "source": [
    "# Soltuion 2\n"
   ]
  },
  {
   "cell_type": "code",
   "execution_count": 4,
   "metadata": {},
   "outputs": [
    {
     "name": "stdout",
     "output_type": "stream",
     "text": [
      "Before Indexing : [2, 4, 6, 8, 10]\n",
      "After Indexing : [2, 4, 'hello', 8, 10]\n"
     ]
    }
   ],
   "source": [
    "spam = [2, 4, 6, 8, 10]\n",
    "print(\"Before Indexing :\" , spam )#befor indexing\n",
    "spam[2] = 'hello'\n",
    "\n",
    "print(\"After Indexing :\" , spam) # after indexing"
   ]
  },
  {
   "cell_type": "markdown",
   "metadata": {},
   "source": [
    "### We basicly use the indexing to do this we just say that the   value that have index 2 in the list is replace to hello i also   set the print statement by this the explanatinon is esy"
   ]
  },
  {
   "cell_type": "markdown",
   "metadata": {},
   "source": [
    "## --------------------------------------------------------------------------------------------"
   ]
  },
  {
   "cell_type": "markdown",
   "metadata": {},
   "source": [
    "# Let&#39;s pretend the spam includes the list [&#39;a&#39;, &#39;b&#39;, &#39;c&#39;, &#39;d&#39;] for the next three queries."
   ]
  },
  {
   "cell_type": "markdown",
   "metadata": {},
   "source": [
    " ## 3. What is the value of spam[int(int(&#39;3&#39; * 2) / 11)]?"
   ]
  },
  {
   "cell_type": "markdown",
   "metadata": {},
   "source": [
    "## Solution 3"
   ]
  },
  {
   "cell_type": "markdown",
   "metadata": {},
   "source": [
    "### when we execute this spam[int(int('3'*2)/11)] \n",
    "###  '3' is string so when it is multiply by the 2   we get  '33' as a string  and then it conver  to int becse outside the bracet we use int function  go no we have spam[int(33/11)] when it execute we get spam[int(3)] = spam[3]\n",
    "\n",
    "### So the  value of the spam[3] in the list is d beacuse d has the index value 3 "
   ]
  },
  {
   "cell_type": "code",
   "execution_count": 5,
   "metadata": {},
   "outputs": [
    {
     "name": "stdout",
     "output_type": "stream",
     "text": [
      "d\n"
     ]
    }
   ],
   "source": [
    "spam = ['a','b','c','d']\n",
    "\n",
    "print(spam[int(int('3'*2)/11)])"
   ]
  },
  {
   "cell_type": "markdown",
   "metadata": {},
   "source": [
    "## 4. What is the value of spam[-1]?"
   ]
  },
  {
   "cell_type": "markdown",
   "metadata": {},
   "source": [
    "## Solution 4"
   ]
  },
  {
   "cell_type": "markdown",
   "metadata": {},
   "source": [
    "### => spam[-1] means we doing the indexing in reverse order thats wjhy the value of spam[-1]  is d"
   ]
  },
  {
   "cell_type": "markdown",
   "metadata": {},
   "source": [
    "## 5. What is the value of spam[:2]?"
   ]
  },
  {
   "cell_type": "markdown",
   "metadata": {},
   "source": [
    "## Solution 5"
   ]
  },
  {
   "cell_type": "markdown",
   "metadata": {},
   "source": [
    "### => Spam[:2] meas we   do a slicing methid in the list spam   this means  it select the elements from the 0 index upto 2 index value but the item  that havwe 2 index value doesnot include in this   so we get (a,b) as a output\n"
   ]
  },
  {
   "cell_type": "code",
   "execution_count": 6,
   "metadata": {},
   "outputs": [
    {
     "name": "stdout",
     "output_type": "stream",
     "text": [
      "['a', 'b']\n"
     ]
    }
   ],
   "source": [
    "print(spam[:2])"
   ]
  },
  {
   "cell_type": "markdown",
   "metadata": {},
   "source": [
    "## --------------------------------------------------------------------------------------------"
   ]
  },
  {
   "cell_type": "markdown",
   "metadata": {},
   "source": [
    "# Let&#39;s pretend bacon has the list [3.14, &#39;cat,&#39; 11, &#39;cat,&#39; True] for the next three questions."
   ]
  },
  {
   "cell_type": "markdown",
   "metadata": {},
   "source": [
    "## 6. What is the value of bacon.index(&#39;cat&#39;)?"
   ]
  },
  {
   "cell_type": "markdown",
   "metadata": {},
   "source": [
    "## Solution 6"
   ]
  },
  {
   "cell_type": "markdown",
   "metadata": {},
   "source": [
    "### =>  In list the index values of the items are 0 : 3.14 , 1 : 'cat' , 2 : 11 , 3 : 'cat' , 4 : True  .. so the value of bacon.index('cat') is 1"
   ]
  },
  {
   "cell_type": "code",
   "execution_count": 21,
   "metadata": {},
   "outputs": [
    {
     "name": "stdout",
     "output_type": "stream",
     "text": [
      "1\n"
     ]
    }
   ],
   "source": [
    "bacon = [3.14,'cat',11,True]\n",
    "print(bacon.index('cat'))"
   ]
  },
  {
   "cell_type": "markdown",
   "metadata": {},
   "source": [
    "## 7. How does bacon.append(99) change the look of the list value in bacon?"
   ]
  },
  {
   "cell_type": "markdown",
   "metadata": {},
   "source": [
    "## Solution 7\n"
   ]
  },
  {
   "cell_type": "markdown",
   "metadata": {},
   "source": [
    "### => When we execute bacon.append(99) the   value 99 was add at the last of list bacon   . the append function was used to add the values to a list \n"
   ]
  },
  {
   "cell_type": "code",
   "execution_count": 22,
   "metadata": {},
   "outputs": [
    {
     "name": "stdout",
     "output_type": "stream",
     "text": [
      "[3.14, 'cat', 11, True, 99]\n"
     ]
    }
   ],
   "source": [
    "bacon.append(99)\n",
    "\n",
    "print(bacon)\n",
    "  \n",
    "##see here 99 was added at rthe last of a list "
   ]
  },
  {
   "cell_type": "markdown",
   "metadata": {},
   "source": [
    "## 8. How does bacon.remove(&#39;cat&#39;) change the look of the list in bacon?"
   ]
  },
  {
   "cell_type": "markdown",
   "metadata": {},
   "source": [
    "## Solution 8"
   ]
  },
  {
   "cell_type": "markdown",
   "metadata": {},
   "source": [
    "### When we execute bacon.remove('cat') the vlaue cat was removed  from the list bacon  . the remove functiion is used to remove a elements from the list   \n"
   ]
  },
  {
   "cell_type": "code",
   "execution_count": 23,
   "metadata": {},
   "outputs": [
    {
     "name": "stdout",
     "output_type": "stream",
     "text": [
      "[3.14, 'cat', 11, True, 99]\n",
      "[3.14, 11, True, 99]\n"
     ]
    }
   ],
   "source": [
    "\n",
    "print(bacon)#before remove \n",
    "\n",
    "bacon.remove('cat')\n",
    "print(bacon)# after remove"
   ]
  },
  {
   "cell_type": "markdown",
   "metadata": {},
   "source": [
    "## --------------------------------------------------------------------------------------------"
   ]
  },
  {
   "cell_type": "markdown",
   "metadata": {},
   "source": [
    "# 9. What are the list concatenation and list replication operators?"
   ]
  },
  {
   "cell_type": "markdown",
   "metadata": {},
   "source": [
    "# Solution 9"
   ]
  },
  {
   "cell_type": "markdown",
   "metadata": {},
   "source": [
    "### In python list concatention operator is '+' and the list replication operator is '*'"
   ]
  },
  {
   "cell_type": "markdown",
   "metadata": {},
   "source": [
    "### -> List concatenation is used to add two or more string data   in other word it is used to create a new list haveing the data vo two or more list that concat with the use of '+' this operator"
   ]
  },
  {
   "cell_type": "code",
   "execution_count": 24,
   "metadata": {},
   "outputs": [
    {
     "name": "stdout",
     "output_type": "stream",
     "text": [
      "[1, 2, 3, 4, 5, 6, 7, 8]\n"
     ]
    }
   ],
   "source": [
    "my_lst=[1,2,3,4]\n",
    "\n",
    "my_lst2=[5,6,7,8]\n",
    "\n",
    "result = my_lst + my_lst2  ## Concatination of  two strings\n",
    "\n",
    "print(result)"
   ]
  },
  {
   "cell_type": "markdown",
   "metadata": {},
   "source": [
    "### -> list replication is  uesd to repeat the data of a list    in other words  it is used to create a new list having the repeted data of a same list    it is  written as  my_lst * number of repetation we want"
   ]
  },
  {
   "cell_type": "code",
   "execution_count": 25,
   "metadata": {},
   "outputs": [
    {
     "name": "stdout",
     "output_type": "stream",
     "text": [
      "[1, 2, 3, 4, 1, 2, 3, 4, 1, 2, 3, 4, 1, 2, 3, 4, 1, 2, 3, 4]\n"
     ]
    }
   ],
   "source": [
    "result = my_lst*5 # replication of a list\n",
    "\n",
    "print(result)"
   ]
  },
  {
   "cell_type": "markdown",
   "metadata": {},
   "source": [
    "## --------------------------------------------------------------------------------------------"
   ]
  },
  {
   "cell_type": "markdown",
   "metadata": {},
   "source": [
    "# 10. What is difference between the list methods append() and insert()?"
   ]
  },
  {
   "cell_type": "markdown",
   "metadata": {},
   "source": [
    "# Solution 10"
   ]
  },
  {
   "cell_type": "markdown",
   "metadata": {},
   "source": [
    "### In python both append() and insert() are used to add some data to a list but both have different syntaxs see below - "
   ]
  },
  {
   "cell_type": "markdown",
   "metadata": {},
   "source": [
    "### append()\n",
    "\n",
    "#### 1.apeend is use to add a data to the end of the list . we have no choice to add data on the specific  index\n",
    "\n",
    "#### 2. append is taken only one arguement that was the data we want to add in the list \n",
    "\n",
    "#### 3 The syntaX  of append() is  my_lst.append(data you want to append)"
   ]
  },
  {
   "cell_type": "code",
   "execution_count": 26,
   "metadata": {},
   "outputs": [
    {
     "name": "stdout",
     "output_type": "stream",
     "text": [
      "[1, 2, 3, 4, 10]\n"
     ]
    }
   ],
   "source": [
    "my_lst = [1,2,3,4]\n",
    "\n",
    "my_lst.append(10)\n",
    "\n",
    "print(my_lst)"
   ]
  },
  {
   "cell_type": "markdown",
   "metadata": {},
   "source": [
    "### insert()\n",
    "\n",
    "#### 1. insert is used to add a data in string on the specifix  palce where we want to add the data just given by a index value\n",
    "\n",
    "####  2. insert is take 2 arguements first is  index value where we want to add the data  and the second arguement is  the data we want to addd"
   ]
  },
  {
   "cell_type": "code",
   "execution_count": 1,
   "metadata": {},
   "outputs": [
    {
     "name": "stdout",
     "output_type": "stream",
     "text": [
      "[1, 2, 'Ajay', 3, 4]\n"
     ]
    }
   ],
   "source": [
    "my_lst = [1,2,3,4]\n",
    "my_lst.insert(2,\"Ajay\")\n",
    "print(my_lst)"
   ]
  },
  {
   "cell_type": "markdown",
   "metadata": {},
   "source": [
    "## --------------------------------------------------------------------------------------------"
   ]
  },
  {
   "cell_type": "markdown",
   "metadata": {},
   "source": [
    "# 11. What are the two methods for removing items from a list?"
   ]
  },
  {
   "cell_type": "markdown",
   "metadata": {},
   "source": [
    "# Solution 11"
   ]
  },
  {
   "cell_type": "markdown",
   "metadata": {},
   "source": [
    "## The two mwthods for removing items from a list are remove() and pop()"
   ]
  },
  {
   "cell_type": "markdown",
   "metadata": {},
   "source": [
    "### 1. remove() - in remove we have to pass the item that we want to remove   from the list  .  or removuing the item usint the item name or value"
   ]
  },
  {
   "cell_type": "code",
   "execution_count": 3,
   "metadata": {},
   "outputs": [
    {
     "name": "stdout",
     "output_type": "stream",
     "text": [
      "[1, 2, 3, 4, 6]\n"
     ]
    }
   ],
   "source": [
    "my_lst =[1,2,3,4,5,6]\n",
    "\n",
    "item = my_lst.remove(5)\n",
    "\n",
    "print(my_lst)\n",
    "\n",
    "## SE HERE WE Have GIVEN THAT WE WANT TO REMOVE THE 5 FROM THE LIST \n"
   ]
  },
  {
   "cell_type": "markdown",
   "metadata": {},
   "source": [
    "### 2. pop() - in pop method we have to pass the item index that we want to remove from the list  we basicly pass the index of the a item then the item is removed"
   ]
  },
  {
   "cell_type": "code",
   "execution_count": 4,
   "metadata": {},
   "outputs": [
    {
     "name": "stdout",
     "output_type": "stream",
     "text": [
      "[1, 2, 4, 5]\n",
      "3\n"
     ]
    }
   ],
   "source": [
    "my_lst=[1,2,3,4,5]\n",
    "\n",
    "item = my_lst.pop(2)\n",
    "\n",
    "print(my_lst)\n",
    "print(item)\n",
    "\n",
    "## SEE HERE 3 IS REMOVED BECAUSE THE INDEX VALUE OF 3 IS 2  SO THAT WHY 3 IS REMOVBED FRIM THE LIST"
   ]
  },
  {
   "cell_type": "markdown",
   "metadata": {},
   "source": [
    "## --------------------------------------------------------------------------------------------"
   ]
  },
  {
   "cell_type": "markdown",
   "metadata": {},
   "source": [
    "# 12. Describe how list values and string values are identical."
   ]
  },
  {
   "cell_type": "markdown",
   "metadata": {},
   "source": [
    "# Solution 12"
   ]
  },
  {
   "cell_type": "markdown",
   "metadata": {},
   "source": [
    "\n",
    "## List values and string values share several similarities, making them quite alike in many respects:\n",
    "\n",
    "### 1. Sequential Data Structure: Both lists and strings are sequential data structures, meaning they are ordered collections of elements/items.   In a list, these elements can be of any data type (integers, strings, floats, etc.), while in a string, the elements are characters.\n",
    "\n",
    "### 2. Indexing: Both lists and strings support indexing, allowing access to individual elements based on their position within the sequence. Indexing starts from 0 for both.\n",
    "\n",
    "### 3. Slicing: Both lists and strings support slicing, which means extracting a portion of the sequence by specifying a range of indices.\n",
    "\n",
    "### 4. Iterability: They are iterable, meaning you can loop over their elements using constructs like for loops.\n",
    "\n",
    "### 5 .Concatenation: Both lists and strings support concatenation, allowing you to combine two or more sequences into a single one.\n",
    "\n",
    "### 6. Length: You can determine the number of elements in both lists and strings using the len() function."
   ]
  },
  {
   "cell_type": "markdown",
   "metadata": {},
   "source": [
    "## --------------------------------------------------------------------------------------------\n"
   ]
  },
  {
   "cell_type": "markdown",
   "metadata": {},
   "source": [
    "# 13. What&#39;s the difference between tuples and lists?"
   ]
  },
  {
   "cell_type": "markdown",
   "metadata": {},
   "source": [
    "# Solution 13"
   ]
  },
  {
   "cell_type": "markdown",
   "metadata": {},
   "source": [
    "\n",
    "## Tuples and lists are both data structures in Python used to store collections of items, but they have several key differences:\n",
    "\n",
    "### 1. Mutability:\n",
    "\n",
    "#### - Lists are mutable, meaning you can change, add, or remove elements after the list has been created.                                      \n",
    "#### - Tuples are immutable, meaning once a tuple is created, you cannot change its elements. However, you can create a new tuple with the desired elements.\n",
    "\n",
    "### 2. Syntax:\n",
    "\n",
    "#### - Lists are enclosed in square brackets [ ].\n",
    "#### - Tuples are enclosed in parentheses ( )."
   ]
  },
  {
   "cell_type": "code",
   "execution_count": 5,
   "metadata": {},
   "outputs": [
    {
     "name": "stdout",
     "output_type": "stream",
     "text": [
      "List: [1, 2, 3, 4, 5]\n",
      "Modified List: [10, 2, 3, 4, 5]\n",
      "List after appending: [10, 2, 3, 4, 5, 6]\n",
      "List after removing element 3: [10, 2, 4, 5, 6]\n"
     ]
    }
   ],
   "source": [
    "# Creating a list\n",
    "my_list = [1, 2, 3, 4, 5]\n",
    "print(\"List:\", my_list)\n",
    "\n",
    "# Modifying a list (mutable)\n",
    "my_list[0] = 10\n",
    "print(\"Modified List:\", my_list)\n",
    "\n",
    "# Adding elements to a list\n",
    "my_list.append(6)\n",
    "print(\"List after appending:\", my_list)\n",
    "\n",
    "# Removing elements from a list\n",
    "my_list.remove(3)\n",
    "print(\"List after removing element 3:\", my_list)\n"
   ]
  },
  {
   "cell_type": "code",
   "execution_count": 6,
   "metadata": {},
   "outputs": [
    {
     "name": "stdout",
     "output_type": "stream",
     "text": [
      "Tuple: (1, 2, 3, 4, 5)\n",
      "First element of tuple: 1\n",
      "New tuple after adding element: (1, 2, 3, 4, 5, 6)\n"
     ]
    }
   ],
   "source": [
    "# Creating a tuple\n",
    "my_tuple = (1, 2, 3, 4, 5)\n",
    "print(\"Tuple:\", my_tuple)\n",
    "\n",
    "# Accessing elements of a tuple\n",
    "print(\"First element of tuple:\", my_tuple[0])\n",
    "\n",
    "# Tuples are immutable, so you can't modify them directly\n",
    "# However, you can create a new tuple with the desired elements\n",
    "new_tuple = my_tuple + (6,)\n",
    "print(\"New tuple after adding element:\", new_tuple)\n"
   ]
  },
  {
   "cell_type": "markdown",
   "metadata": {},
   "source": [
    "#### We cannot modify he tuple or chnge the tuple bnecux the tuple are immutable so we can create a new tule to add some value"
   ]
  },
  {
   "cell_type": "markdown",
   "metadata": {},
   "source": [
    "## --------------------------------------------------------------------------------------------\n"
   ]
  },
  {
   "cell_type": "markdown",
   "metadata": {},
   "source": [
    "# 14. How do you type a tuple value that only contains the integer 42?"
   ]
  },
  {
   "cell_type": "markdown",
   "metadata": {},
   "source": [
    "# Solution 14"
   ]
  },
  {
   "cell_type": "markdown",
   "metadata": {},
   "source": [
    "## To create a tuple value that only contains the integer 42, you would enclose the integer 42 within parentheses. Here's how you would do it:"
   ]
  },
  {
   "cell_type": "code",
   "execution_count": 7,
   "metadata": {},
   "outputs": [
    {
     "name": "stdout",
     "output_type": "stream",
     "text": [
      "<class 'tuple'>\n"
     ]
    }
   ],
   "source": [
    "my_tuple =(42,)\n",
    "#The comma after the integer 42 is necessary to distinguish it as a tuple. Without the comma, Python would interpret the expression as just an integer in parentheses,\n",
    "\n",
    "print(type(my_tuple))"
   ]
  },
  {
   "cell_type": "markdown",
   "metadata": {},
   "source": [
    "## --------------------------------------------------------------------------------------------\n",
    "\n"
   ]
  },
  {
   "cell_type": "markdown",
   "metadata": {},
   "source": [
    "# 15. How do you get a list value&#39;s tuple form? How do you get a tuple value&#39;s list form?"
   ]
  },
  {
   "cell_type": "markdown",
   "metadata": {},
   "source": [
    "# Solution 15"
   ]
  },
  {
   "cell_type": "markdown",
   "metadata": {},
   "source": [
    "### To convert a list value to its tuple form, you can use the tuple() function, which takes the list as an argument and returns a tuple containing the same elements."
   ]
  },
  {
   "cell_type": "code",
   "execution_count": 10,
   "metadata": {},
   "outputs": [
    {
     "name": "stdout",
     "output_type": "stream",
     "text": [
      "('Ajay', 'Sunny', 'Bittu')\n",
      "<class 'tuple'>\n"
     ]
    }
   ],
   "source": [
    "my_list = [\"Ajay\" ,\"Sunny\" ,\"Bittu\"]\n",
    "\n",
    "my_tuple = tuple(my_list)\n",
    "\n",
    "print(my_tuple)\n",
    "\n",
    "print(type(my_tuple))"
   ]
  },
  {
   "cell_type": "markdown",
   "metadata": {},
   "source": [
    "### To convert a tuple value to its list form, you can use the list() function, which takes the tuple as an argument and returns a list containing the same elements"
   ]
  },
  {
   "cell_type": "code",
   "execution_count": 11,
   "metadata": {},
   "outputs": [
    {
     "name": "stdout",
     "output_type": "stream",
     "text": [
      "[7, 8, 39, 0, 0]\n",
      "<class 'list'>\n"
     ]
    }
   ],
   "source": [
    "my_tuple = (7,8,39,0,0)\n",
    "\n",
    "my_list = list(my_tuple)\n",
    "\n",
    "print(my_list)\n",
    "print(type(my_list))"
   ]
  },
  {
   "cell_type": "markdown",
   "metadata": {},
   "source": [
    "## --------------------------------------------------------------------------------------------\n"
   ]
  },
  {
   "cell_type": "markdown",
   "metadata": {},
   "source": [
    "# 16. Variables that &quot;contain&quot; list values are not necessarily lists themselves. Instead, what do they contain?"
   ]
  },
  {
   "cell_type": "markdown",
   "metadata": {},
   "source": [
    "# Solution 16"
   ]
  },
  {
   "cell_type": "markdown",
   "metadata": {},
   "source": [
    "### Variables in Python can contain references to list values rather than the lists themselves. When you assign a list to a variable, the variable stores a reference to the memory location where the list is stored. In other words, the variable points to the list in memory."
   ]
  },
  {
   "cell_type": "code",
   "execution_count": null,
   "metadata": {},
   "outputs": [],
   "source": [
    "my_list = [1, 2, 3, 4, 5]\n"
   ]
  },
  {
   "cell_type": "markdown",
   "metadata": {},
   "source": [
    "### In this case, my_list is not the list itself, but rather a reference to the list [1, 2, 3, 4, 5]. If you assign my_list to another variable, both variables will refer to the same list in memory:"
   ]
  },
  {
   "cell_type": "code",
   "execution_count": null,
   "metadata": {},
   "outputs": [],
   "source": [
    "another_list = my_list\n"
   ]
  },
  {
   "cell_type": "markdown",
   "metadata": {},
   "source": [
    "### Now, both my_list and another_list point to the same list [1, 2, 3, 4, 5]. Any changes made to the list through one variable will be reflected when accessing the list through the other variable."
   ]
  },
  {
   "cell_type": "markdown",
   "metadata": {},
   "source": [
    "## --------------------------------------------------------------------------------------------\n"
   ]
  },
  {
   "cell_type": "markdown",
   "metadata": {},
   "source": [
    "# 17. How do you distinguish between copy.copy() and copy.deepcopy()?"
   ]
  },
  {
   "cell_type": "markdown",
   "metadata": {},
   "source": [
    "# Solution 17"
   ]
  },
  {
   "cell_type": "markdown",
   "metadata": {},
   "source": [
    "### copy.copy() (Shallow Copy):\n",
    "\n",
    "#### copy.copy() creates a shallow copy of an object.\n",
    "#### In a shallow copy, the new object is a separate object, but it references the same elements (or sub-objects) as the original object.\n",
    "#### If the original object contains mutable elements (e.g., lists), changes made to these mutable elements through one object will affect the other object.\n",
    "#### Shallow copy is sufficient if the object and its sub-objects are immutable or if you don't mind changes to the sub-objects reflecting in both the original and copied objects.\n",
    "\n",
    "### copy.deepcopy() (Deep Copy):\n",
    "\n",
    "#### copy.deepcopy() creates a deep copy of an object.\n",
    "#### In a deep copy, both the object and all of its sub-objects are recursively copied, resulting in a completely independent object.\n",
    "#### Even if the original object contains mutable elements, changes made to these mutable elements through one object will not affect the other object.\n",
    "#### Deep copy is necessary when you need to modify one copy of the object without affecting the other, especially if the object contains nested mutable data structures."
   ]
  },
  {
   "cell_type": "markdown",
   "metadata": {},
   "source": []
  },
  {
   "cell_type": "markdown",
   "metadata": {},
   "source": []
  }
 ],
 "metadata": {
  "kernelspec": {
   "display_name": "Python 3",
   "language": "python",
   "name": "python3"
  },
  "language_info": {
   "codemirror_mode": {
    "name": "ipython",
    "version": 3
   },
   "file_extension": ".py",
   "mimetype": "text/x-python",
   "name": "python",
   "nbconvert_exporter": "python",
   "pygments_lexer": "ipython3",
   "version": "3.11.4"
  }
 },
 "nbformat": 4,
 "nbformat_minor": 2
}
